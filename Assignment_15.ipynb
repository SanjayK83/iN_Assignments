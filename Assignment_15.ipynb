{
 "cells": [
  {
   "cell_type": "code",
   "execution_count": null,
   "id": "841ef767",
   "metadata": {},
   "outputs": [],
   "source": [
    "1.How many seconds are in an hour? Use the interactive interpreter as a calculator and multiply the\n",
    "number of seconds in a minute (60) by the number of minutes in an hour (also 60).\n",
    "Answer : 60*60 = 3600 seconds . \n",
    "    "
   ]
  },
  {
   "cell_type": "code",
   "execution_count": null,
   "id": "a855ce54",
   "metadata": {},
   "outputs": [],
   "source": [
    "\n",
    "2. Assign the result from the previous task (seconds in an hour) to a variable called\n",
    "seconds_per_hour.\n",
    "Answer : \n",
    "    seconds_per_hour = 3600"
   ]
  },
  {
   "cell_type": "code",
   "execution_count": null,
   "id": "38bb8a56",
   "metadata": {},
   "outputs": [],
   "source": [
    "\n",
    "3. How many seconds do you think there are in a day? Make use of the variables seconds per hour\n",
    "and minutes per hour.\n",
    "Answer : \n",
    "    seconds_per_Hour *24\n",
    "    86400"
   ]
  },
  {
   "cell_type": "code",
   "execution_count": null,
   "id": "42b4a518",
   "metadata": {},
   "outputs": [],
   "source": [
    "\n",
    "4. Calculate seconds per day again, but this time save the result in a variable called seconds_per_day\n",
    "Answer : \n",
    "    seconds_per_day = Seconds_per_Hour *24"
   ]
  },
  {
   "cell_type": "code",
   "execution_count": null,
   "id": "3bcfbbf6",
   "metadata": {},
   "outputs": [],
   "source": [
    "5. Divide seconds_per_day by seconds_per_hour. Use floating-point (/) division.\n",
    "Answer : \n",
    "    seconds_per_day / seconds_per_hour\n",
    "    24.0\n"
   ]
  },
  {
   "cell_type": "code",
   "execution_count": null,
   "id": "c8c0d151",
   "metadata": {},
   "outputs": [],
   "source": [
    "6. Divide seconds_per_day by seconds_per_hour, using integer (//) division. Did this number agree\n",
    "with the floating-point value from the previous question, aside from the final .0?"
   ]
  },
  {
   "cell_type": "code",
   "execution_count": null,
   "id": "4ab5af7b",
   "metadata": {},
   "outputs": [],
   "source": [
    "Answer : \n",
    "    seconds_per_day // seconds_per_hour\n",
    "    24"
   ]
  },
  {
   "cell_type": "code",
   "execution_count": null,
   "id": "9502eec9",
   "metadata": {},
   "outputs": [],
   "source": [
    "7. Write a generator, genPrimes, that returns the sequence of prime numbers on successive calls to\n",
    "its next() method: 2, 3, 5, 7, 11, ...\n",
    "Answer:\n",
    "    \n",
    "def genPrimes():\n",
    "primes = []   # primes generated so far\n",
    "last = 1      # last number tried\n",
    "while True:\n",
    "    last += 1\n",
    "    for p in primes:\n",
    "        if last % p == 0:\n",
    "            break\n",
    "    else:\n",
    "        primes.append(last)\n",
    "        yield last\n",
    "\n",
    "p = genPrimes()  "
   ]
  }
 ],
 "metadata": {
  "kernelspec": {
   "display_name": "Python 3 (ipykernel)",
   "language": "python",
   "name": "python3"
  },
  "language_info": {
   "codemirror_mode": {
    "name": "ipython",
    "version": 3
   },
   "file_extension": ".py",
   "mimetype": "text/x-python",
   "name": "python",
   "nbconvert_exporter": "python",
   "pygments_lexer": "ipython3",
   "version": "3.9.12"
  }
 },
 "nbformat": 4,
 "nbformat_minor": 5
}
