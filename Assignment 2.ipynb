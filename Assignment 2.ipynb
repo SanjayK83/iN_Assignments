{
 "cells": [
  {
   "cell_type": "markdown",
   "id": "1b59866a",
   "metadata": {},
   "source": [
    "1.What are the two values of the Boolean data type? How do you write them?\n",
    "\n",
    "Answer : True and False are the 2 values of the Bolian data type ,\n",
    "using capital T and F, with the rest of the word in lowercase.\n",
    "a = 5\n",
    "b = 10\n",
    "print(bool(a==b))\n",
    "\n",
    "in while loop , you  c an directly write like While True :"
   ]
  },
  {
   "cell_type": "markdown",
   "id": "57c1d02f",
   "metadata": {},
   "source": [
    "2. What are the three different types of Boolean operators?\n",
    "\n",
    "Answer : AND ,OR, NOT are the three different types of Boolean operators"
   ]
  },
  {
   "cell_type": "code",
   "execution_count": null,
   "id": "a5218e33",
   "metadata": {},
   "outputs": [],
   "source": [
    "3. Make a list of each Boolean operator's truth tables (i.e. every possible combination of Boolean values for the operator and what it evaluate ).\n",
    "\n",
    "Answer : \n",
    "AND Truth Table\n",
    "x\t    and y   \tReturns\n",
    "True\tand\tTrue\tTrue\n",
    "True\tand\tFalse\tFalse\n",
    "False\tand\tTrue\tFalse\n",
    "False\tand\tFalse\tFalse\n",
    "\n",
    "OR Truth Table\n",
    "x       or  \ty  \tReturns\n",
    "True\tor\tTrue\tTrue\n",
    "True\tor\tFalse\tTrue\n",
    "False\tor\tTrue\tTrue\n",
    "False\tor\tFalse\tFalse\n",
    "\n",
    "NOT Truth Table\n",
    "not\tx\tReturns\n",
    "not\tTrue\tFalse\n",
    "not\tFalse\tTrue"
   ]
  },
  {
   "cell_type": "code",
   "execution_count": null,
   "id": "13606d43",
   "metadata": {},
   "outputs": [],
   "source": [
    "4. What are the values of the following expressions?\n",
    "\n",
    "(5 > 4) and (3 == 5)\n",
    "Ans : False\n",
    "    \n",
    "not (5 > 4)\n",
    "Ans: False\n",
    "    \n",
    "(5 > 4) or (3 == 5)\n",
    "Ans : True\n",
    "    \n",
    "not ((5 > 4) or (3 == 5))\n",
    "Ans: False\n",
    "    \n",
    "(True and True) and (True == False)\n",
    "Ans : False\n",
    "    \n",
    "(not False) or (not True)\n",
    "Ans : True"
   ]
  },
  {
   "cell_type": "code",
   "execution_count": 2,
   "id": "056ea669",
   "metadata": {},
   "outputs": [
    {
     "data": {
      "text/plain": [
       "False"
      ]
     },
     "execution_count": 2,
     "metadata": {},
     "output_type": "execute_result"
    }
   ],
   "source": [
    "5. What are the six comparison operators?\n",
    "Answer :\n",
    "    Follwing are six comparison operators in python:\n",
    "        1. less than ( < )\n",
    "        2. less than or equal to ( <= )\n",
    "        3. greater than ( > )\n",
    "        4. greater than or equal to ( >= )\n",
    "        5. equal to ( == )\n",
    "        6. and not equal to ( != )"
   ]
  },
  {
   "cell_type": "code",
   "execution_count": null,
   "id": "92e21a18",
   "metadata": {},
   "outputs": [],
   "source": [
    "6. How do you tell the difference between the equal to and assignment operators?\n",
    "Describe a condition and when you would use one.\n",
    "\n",
    "Answer :  Equal to operator is shown by == sigh which is used to compare to two different values and \n",
    "          return True or False depending upon the outcome of the condition .\n",
    "          Assignment Operator is shown by '=' sign which is used to assign the data/value in variable.\n",
    "        If you want to perform the data checks between two values , then you will use the Equal to Operator \n",
    "        If you want to assign the value to other variable then use the assignment operator.\n"
   ]
  },
  {
   "cell_type": "code",
   "execution_count": null,
   "id": "f4480efe",
   "metadata": {},
   "outputs": [],
   "source": [
    "7. Identify the three blocks in this code:\n",
    "Answer :\n",
    "    \n",
    "spam = 0\n",
    "\n",
    "if spam == 10:\n",
    "    print('eggs') #Block 1\n",
    "\n",
    "if spam > 5:\n",
    "    print('bacon')#Block 2\n",
    "\n",
    "else:\n",
    "    print('ham')#Block 3\n",
    "    print('spam')\n",
    "    print('spam')\n",
    "\n"
   ]
  },
  {
   "cell_type": "code",
   "execution_count": 21,
   "id": "542a96a8",
   "metadata": {},
   "outputs": [
    {
     "name": "stdout",
     "output_type": "stream",
     "text": [
      "Please provided the value for spam : 3\n",
      "Greetings!\n"
     ]
    }
   ],
   "source": [
    "#8. Write code that prints Hello if 1 is stored in spam,\n",
    "#prints Howdy if 2 is stored in spam, and prints Greetings! if anything else is stored in spam.\n",
    "\n",
    "spam=input(\"Please provided the value for spam : \")\n",
    "\n",
    "if spam.isnumeric():\n",
    "    spam=int(spam)\n",
    "    if spam==1:\n",
    "        print(\"Hello\")\n",
    "    elif spam==2:\n",
    "        print(\"Howdy\")\n",
    "    else:\n",
    "        print(\"Greetings!\")\n",
    "else:\n",
    "    print(\"Greetings!\")\n",
    "\n",
    "\n",
    "\n",
    "\n"
   ]
  },
  {
   "cell_type": "code",
   "execution_count": null,
   "id": "062605d7",
   "metadata": {},
   "outputs": [],
   "source": [
    "9.If your programme is stuck in an endless loop, what keys you’ll press?\n",
    "Answer :\n",
    "    press CTRL + C to end the endless loop ."
   ]
  },
  {
   "cell_type": "code",
   "execution_count": null,
   "id": "c47e71ea",
   "metadata": {},
   "outputs": [],
   "source": [
    "10. How can you tell the difference between break and continue?\n",
    "Answer : \n",
    "    when break keyword is encountered, it will exit the loop, so that it will go to next block of statement. \n",
    "    When continue keyword is encountered , the current iteration that is running will be stopped,\n",
    "    and it will proceed with the next iteration present in that loop so that loop wil go and on till it ends."
   ]
  },
  {
   "cell_type": "code",
   "execution_count": null,
   "id": "958da119",
   "metadata": {},
   "outputs": [],
   "source": [
    "11. In a for loop, what is the difference between range(10), range(0, 10), and range(0, 10, 1)?\n",
    "\n",
    "In for loop ,\n",
    "range(10) is the default condition where the range will always start from 0 as no start valeue is provided till end 10 but excluding end .\n",
    "Range(0,10)--Where 0 is start value and 10 is stop value , It denotes that , it will start EXPLICITILY from 0 value tll value 10 excluding 10. i.e loop will run 0 to 9 times.\n",
    "Range(0,10,1)--Where 0 is start value which tells to start the loop explicitly from 0 , 10 is stop value and 1 is the step in which each interger increment. \n",
    "\n"
   ]
  },
  {
   "cell_type": "code",
   "execution_count": 27,
   "id": "ef1745a6",
   "metadata": {},
   "outputs": [
    {
     "name": "stdout",
     "output_type": "stream",
     "text": [
      "For loop to print 1 to 10 \n",
      "1\n",
      "2\n",
      "3\n",
      "4\n",
      "5\n",
      "6\n",
      "7\n",
      "8\n",
      "9\n",
      "10\n",
      "\n",
      "While loop to print 1 to 10 \n",
      "1\n",
      "2\n",
      "3\n",
      "4\n",
      "5\n",
      "6\n",
      "7\n",
      "8\n",
      "9\n",
      "10\n"
     ]
    }
   ],
   "source": [
    "\"\"\"12. Write a short program that prints the numbers 1 to 10 using a for loop.\n",
    "Then write an equivalent program that prints the numbers 1 to 10 using a while loop.\"\"\"\n",
    "print(\"For loop to print 1 to 10 \")\n",
    "for i in range(1,11):\n",
    "    print(i)\n",
    "print()\n",
    "a= 1\n",
    "print(\"While loop to print 1 to 10 \")\n",
    "while a<=10:\n",
    "    print(a)\n",
    "    a=a+1\n",
    "\n"
   ]
  },
  {
   "cell_type": "code",
   "execution_count": null,
   "id": "31792d76",
   "metadata": {},
   "outputs": [],
   "source": [
    "13. If you had a function named bacon() inside a module named spam, how would you call it after importing spam?\n",
    "Answer :\n",
    "    Use statement spam.bacon()."
   ]
  }
 ],
 "metadata": {
  "kernelspec": {
   "display_name": "Python 3",
   "language": "python",
   "name": "python3"
  },
  "language_info": {
   "codemirror_mode": {
    "name": "ipython",
    "version": 3
   },
   "file_extension": ".py",
   "mimetype": "text/x-python",
   "name": "python",
   "nbconvert_exporter": "python",
   "pygments_lexer": "ipython3",
   "version": "3.8.8"
  }
 },
 "nbformat": 4,
 "nbformat_minor": 5
}
