{
 "cells": [
  {
   "cell_type": "code",
   "execution_count": null,
   "id": "252a7b6e",
   "metadata": {},
   "outputs": [],
   "source": [
    "1. To what does a relative path refer?\n",
    "Answer : Relative paths are relative to the current working directory.\n"
   ]
  },
  {
   "cell_type": "code",
   "execution_count": null,
   "id": "3ea7df01",
   "metadata": {},
   "outputs": [],
   "source": [
    "2. What does an absolute path start with your operating system?\n",
    "Answer : Absolute paths start with the root folder such as / or C:\\\n"
   ]
  },
  {
   "cell_type": "code",
   "execution_count": null,
   "id": "ca1d7f3f",
   "metadata": {},
   "outputs": [],
   "source": [
    "3. What do the functions os.getcwd() and os.chdir() do?\n",
    "Answer : The os.getcwd() function returns the current working directory.\n",
    "         The os.chdir() function changes the current working directory.\n",
    "\n"
   ]
  },
  {
   "cell_type": "code",
   "execution_count": null,
   "id": "a84231ac",
   "metadata": {},
   "outputs": [],
   "source": [
    "4. What are the . and .. folders?\n",
    "Answer : . represent the current folder and .. is the parent folder.\n"
   ]
  },
  {
   "cell_type": "code",
   "execution_count": null,
   "id": "65907290",
   "metadata": {},
   "outputs": [],
   "source": [
    "5. In C:\\bacon\\eggs\\spam.txt, which part is the dir name, and which part is the base name?\n",
    "    \n",
    "Answer : C:\\bacon\\eggs is the dir name, while spam.txt is the base name."
   ]
  },
  {
   "cell_type": "code",
   "execution_count": null,
   "id": "184d98a3",
   "metadata": {},
   "outputs": [],
   "source": [
    "6. What are the three “mode” arguments that can be passed to the open() function?\n",
    "\n",
    "Answer : The string 'r' for read mode, 'w' for write mode, and 'a' for append mode\n"
   ]
  },
  {
   "cell_type": "code",
   "execution_count": null,
   "id": "f6ec16c6",
   "metadata": {},
   "outputs": [],
   "source": [
    "7. What happens if an existing file is opened in write mode?\n",
    "\n",
    "Answer : An existing file opened in write mode is erased and completely overwritten."
   ]
  },
  {
   "cell_type": "code",
   "execution_count": null,
   "id": "6fc41406",
   "metadata": {},
   "outputs": [],
   "source": [
    "8. How do you tell the difference between read() and readlines()?\n",
    "\n",
    "Answer : The read() method returns the file’s entire data as a single string value.\n",
    "         The readlines() method returns a list of strings, where each string is a line."
   ]
  },
  {
   "cell_type": "code",
   "execution_count": null,
   "id": "51dc174f",
   "metadata": {},
   "outputs": [],
   "source": [
    "9. What data structure does a shelf value resemble?\n",
    "\n",
    "Answer : A shelf value resembles a dictionary value; it has keys and values."
   ]
  }
 ],
 "metadata": {
  "kernelspec": {
   "display_name": "Python 3 (ipykernel)",
   "language": "python",
   "name": "python3"
  },
  "language_info": {
   "codemirror_mode": {
    "name": "ipython",
    "version": 3
   },
   "file_extension": ".py",
   "mimetype": "text/x-python",
   "name": "python",
   "nbconvert_exporter": "python",
   "pygments_lexer": "ipython3",
   "version": "3.9.12"
  }
 },
 "nbformat": 4,
 "nbformat_minor": 5
}
