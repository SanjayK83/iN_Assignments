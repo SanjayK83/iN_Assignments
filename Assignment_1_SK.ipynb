{
 "cells": [
  {
   "cell_type": "markdown",
   "id": "06043288",
   "metadata": {},
   "source": [
    "# 1. In the below elements which of them are values or an expression? eg:- values can be integer or string and expressions will be mathematical operators.\n",
    "* \n",
    "'hello'\n",
    "-87.8\n",
    "- \n",
    "/ \n",
    "+\t\n",
    "6 \n",
    "\n",
    "Answer : \n",
    "Values : 'hello' , -87.8 ,6\n",
    "\n",
    "expression : * , -,/,+\n"
   ]
  },
  {
   "cell_type": "markdown",
   "id": "6276f82c",
   "metadata": {},
   "source": [
    "# 2. What is the difference between string and variable?\n",
    "\n",
    "A Variable is keys where you can store the expected data or value in your program.its kind of address for that value\n",
    "which  can be used again and again in your data unless it its overwritten by the other  value.\n",
    "value  or data get assigned to variable using the = operater which assigns the perticular value for that variable . \n",
    "\n",
    "Strings are data, so we can use them to fill up a variable. String can hold value user want to fill it . \n"
   ]
  },
  {
   "cell_type": "markdown",
   "id": "2a5faa8a",
   "metadata": {},
   "source": [
    "# 3. Describe three different data types.\n",
    "\n",
    "Answer : \n",
    "#1. Integer : It contains +ve or -ve whole number without fraction values .\n",
    "e.g :  a =10 ;\n",
    "\n",
    "#2. List : its like arrays which is collection of data. It can contain any combination of data type added using [] . The data present in list is not ordered. It can contain duplicate values .List is mutable  that means you can update the value later once created . \n",
    "e.g : a = [1,2,3,('san','k'),23.4]\n",
    "\n",
    "#3. Tuple : Tuple is same as that of list excpet its immutable . YOu can add the values to tuple but can not modify the current value once assigned . It can contain different types of datatype data inside t . the values are stored in () .\n",
    "e.g. a= (1,2,3,[5,6],{'k1' : '7','k2' : '8'})\n",
    "\n",
    "#4. Dictonary\n",
    "\n",
    "#5. Set "
   ]
  },
  {
   "cell_type": "markdown",
   "id": "c714f234",
   "metadata": {},
   "source": [
    "# 4. What is an expression made up of? What do all expressions do?\n",
    "\n",
    "Answer : \n",
    "An expression is a combination of operators and operands that is interpreted to produce some other value.\n",
    "an expression is evaluated as per the precedence of its operators.They are representation of value . \n",
    "They used to perform the opertions on the values provided .Mostly Arithmatic Operations like , plus , minus,multiple and divide . \n",
    "They also used to convert the data in expected format as per requirement. \n",
    "Expressions also used for logical opeations on he data , they can be used to define the constant values .\n",
    "There can be multiple operations performed in the single experession itself as per operator precedance."
   ]
  },
  {
   "cell_type": "markdown",
   "id": "11b61ed8",
   "metadata": {},
   "source": [
    "# 5. This assignment statements, like spam = 10. What is the difference between an expression and a statement?\n",
    "\n",
    "Expression always evaluate the where as the statement generally used to display something or assinged the value to variable . \n",
    "In above example , value 10 is getting assgined to varaible spam . \n",
    "Its only have assigned the value and not evaluating anything . No other operation is getting performed here excpet creating the variable.\n"
   ]
  },
  {
   "cell_type": "markdown",
   "id": "c0f59a4e",
   "metadata": {},
   "source": [
    "# 6. After running the following code, what does the variable bacon contain?\n",
    "bacon = 22\n",
    "bacon + 1\n",
    "\n",
    "Answer : 23\n"
   ]
  },
  {
   "cell_type": "markdown",
   "id": "3ccf3c58",
   "metadata": {},
   "source": [
    "# 7. What should the values of the following two terms be?\n",
    "\n",
    "'spam' + 'spamspam' => 'spamspamspam'\n",
    "'spam' * 3 => 'spamspamspam\n",
    "\n",
    "\n"
   ]
  },
  {
   "cell_type": "markdown",
   "id": "c156277b",
   "metadata": {},
   "source": [
    "# 8. Why is eggs a valid variable name while 100 is invalid?\n",
    "\n",
    "100 is number , Variable name have constraint that they can not start with number , hence eggs is valid while 100 is invalid variable name .\n"
   ]
  },
  {
   "cell_type": "markdown",
   "id": "66e682a1",
   "metadata": {},
   "source": [
    "# 9. What three functions can be used to get the integer, floating-point number, or string version of a value?\n",
    "\n",
    "To get integer , use int(value) function .\n",
    "For float point number float(value) function.\n",
    "for string , use str(value) function .\n",
    "\n",
    "Where value is the data which needs to be data casting . \n",
    "\n"
   ]
  },
  {
   "cell_type": "markdown",
   "id": "88ea615e",
   "metadata": {},
   "source": [
    "# 10. Why does this expression cause an error? How can you fix it?\n",
    "'I have eaten ' + 99 + ' burritos.'\n",
    "\n",
    "The given expressin is trying to combine , string value with Integer value , hence its causing the error . \n",
    "To resolve this  use type casting str(99) or make the number value 99 as string so that same data type can concatenated as follows.\n",
    "\n",
    "'I have eaten ' + '99' + ' burritos.'\n",
    "OR\n",
    "'I have eaten ' + str(99) + ' burritos.'\n"
   ]
  }
 ],
 "metadata": {
  "kernelspec": {
   "display_name": "Python 3",
   "language": "python",
   "name": "python3"
  },
  "language_info": {
   "codemirror_mode": {
    "name": "ipython",
    "version": 3
   },
   "file_extension": ".py",
   "mimetype": "text/x-python",
   "name": "python",
   "nbconvert_exporter": "python",
   "pygments_lexer": "ipython3",
   "version": "3.8.8"
  }
 },
 "nbformat": 4,
 "nbformat_minor": 5
}
