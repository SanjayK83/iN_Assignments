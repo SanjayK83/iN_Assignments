{
 "cells": [
  {
   "cell_type": "code",
   "execution_count": null,
   "id": "955e7a92",
   "metadata": {},
   "outputs": [],
   "source": [
    "1. Is the Python Standard Library included with PyInputPlus?\n",
    "\n",
    "Answer :No. PyInputPlus is a third-party module.\n"
   ]
  },
  {
   "cell_type": "code",
   "execution_count": null,
   "id": "9cf897f1",
   "metadata": {},
   "outputs": [],
   "source": [
    "2. Why is PyInputPlus commonly imported with import pyinputplus as pypi?\n",
    "Answer : This makes your code shorter to type.\n",
    "         Instead of pyinputplus.inputStr() you can also type pyip.inputStr()."
   ]
  },
  {
   "cell_type": "code",
   "execution_count": null,
   "id": "b4566dd5",
   "metadata": {},
   "outputs": [],
   "source": [
    "3. How do you distinguish between inputInt() and inputFloat()?\n",
    "\n",
    "Answer : The inputInt() function returns an int value, while the inputFloat() function returns a float value."
   ]
  },
  {
   "cell_type": "code",
   "execution_count": null,
   "id": "ec90d91e",
   "metadata": {},
   "outputs": [],
   "source": [
    "4. Using PyInputPlus, how do you ensure that the user enters a whole number between 0 and 99?\n",
    "\n",
    "Answer : Call pyip.inputint(min=0, max=99)"
   ]
  },
  {
   "cell_type": "code",
   "execution_count": null,
   "id": "5b8bf0a5",
   "metadata": {},
   "outputs": [],
   "source": [
    "5. What is transferred to the keyword arguments allowRegexes and blockRegexes?\n",
    "\n",
    "Answer : A list of regex strings that are either explicitly allowed or denied"
   ]
  },
  {
   "cell_type": "code",
   "execution_count": null,
   "id": "a9c4389b",
   "metadata": {},
   "outputs": [],
   "source": [
    "6. If a blank input is entered three times, what does inputStr(limit=3) do?\n",
    "\n",
    "Answer : The function will raise RetryLimitException."
   ]
  },
  {
   "cell_type": "code",
   "execution_count": null,
   "id": "ee1949f8",
   "metadata": {},
   "outputs": [],
   "source": [
    "7. If blank input is entered three times, what does inputStr(limit=3, default='hello') do?\n",
    "\n",
    "Answer:  The function returns the value 'hello'."
   ]
  }
 ],
 "metadata": {
  "kernelspec": {
   "display_name": "Python 3 (ipykernel)",
   "language": "python",
   "name": "python3"
  },
  "language_info": {
   "codemirror_mode": {
    "name": "ipython",
    "version": 3
   },
   "file_extension": ".py",
   "mimetype": "text/x-python",
   "name": "python",
   "nbconvert_exporter": "python",
   "pygments_lexer": "ipython3",
   "version": "3.9.12"
  }
 },
 "nbformat": 4,
 "nbformat_minor": 5
}
