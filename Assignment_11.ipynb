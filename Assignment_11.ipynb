{
 "cells": [
  {
   "cell_type": "code",
   "execution_count": null,
   "id": "d3055013",
   "metadata": {},
   "outputs": [],
   "source": [
    "1. Create an assert statement that throws an AssertionError if the variable spam is a negative\n",
    "integer.\n",
    "Answer : assert spam >= 5, 'The spam variable is less than 5.'\n"
   ]
  },
  {
   "cell_type": "code",
   "execution_count": null,
   "id": "e5aa017c",
   "metadata": {},
   "outputs": [],
   "source": [
    "2. Write an assert statement that triggers an AssertionError if the variables eggs and bacon contain\n",
    "strings that are the same as each other, even if their cases are different (that is, &#39;hello&#39; and &#39;hello&#39; are\n",
    "considered the same, and &#39;goodbye&#39; and &#39;GOODbye&#39; are also considered the same).\n",
    "\n",
    "Answer : assert eggs.lower() != bacon.lower()"
   ]
  },
  {
   "cell_type": "code",
   "execution_count": null,
   "id": "5fa3fd9c",
   "metadata": {},
   "outputs": [],
   "source": [
    "3. Create an assert statement that throws an AssertionError every time.\n",
    "Answer : assert False, 'This assertion always triggers.'"
   ]
  },
  {
   "cell_type": "code",
   "execution_count": null,
   "id": "9f6b59a1",
   "metadata": {},
   "outputs": [],
   "source": [
    "4. What are the two lines that must be present in your software in order to call logging.debug()?\n",
    "Answer : import logging\n",
    "         logging.basicConfig(level=logging.DEBUG, format=' %(asctime)s -%(levelname)s - %(message)s')"
   ]
  },
  {
   "cell_type": "code",
   "execution_count": null,
   "id": "10b79745",
   "metadata": {},
   "outputs": [],
   "source": [
    "5. What are the two lines that your program must have in order to have logging.debug() send a\n",
    "logging message to a file named programLog.txt?\n",
    "Answer : import logging\n",
    "         logging.basicConfig(filename='programLog.txt', level=logging.DEBUG,format=' %(asctime)s - %(levelname)s - %(message)s')"
   ]
  },
  {
   "cell_type": "code",
   "execution_count": null,
   "id": "fe084bb4",
   "metadata": {},
   "outputs": [],
   "source": [
    "6. What are the five levels of logging?\n",
    "Answer : DEBUG, INFO, WARNING, ERROR, and CRITICAL"
   ]
  },
  {
   "cell_type": "code",
   "execution_count": null,
   "id": "695de478",
   "metadata": {},
   "outputs": [],
   "source": [
    "7. What line of code would you add to your software to disable all logging messages?\n",
    "Answer : logging.disable(logging.CRITICAL)"
   ]
  },
  {
   "cell_type": "code",
   "execution_count": null,
   "id": "d4e95557",
   "metadata": {},
   "outputs": [],
   "source": [
    "8.Why is using logging messages better than using print() to display the same message?\n",
    "Answer : You can disable logging messages without removing the logging function calls. You can selectively disable\n",
    "         lower-level logging messages. You can create logging messages"
   ]
  },
  {
   "cell_type": "code",
   "execution_count": null,
   "id": "d85a8b5d",
   "metadata": {},
   "outputs": [],
   "source": [
    "9. What are the differences between the Step Over, Step In, and Step Out buttons in the debugger?\n",
    "Answer : The Step In button will move the debugger into a function call. The Step Over button will quickly\n",
    "execute the function call without stepping into it. The Step Out button will quickly execute the rest of\n",
    "the code until it steps out of the function it currently is in."
   ]
  },
  {
   "cell_type": "code",
   "execution_count": null,
   "id": "e088c4d2",
   "metadata": {},
   "outputs": [],
   "source": [
    "10.After you click Continue, when will the debugger stop ?\n",
    "Answer : debugger will stop when it has reached the end of the program or a line with a breakpoint.\n"
   ]
  },
  {
   "cell_type": "code",
   "execution_count": null,
   "id": "9202375e",
   "metadata": {},
   "outputs": [],
   "source": [
    "11. What is the concept of a breakpoint?\n",
    "Answer : A breakpoint is a setting on a line of code that causes the debugger to pause when the program execution\n",
    "reaches the line."
   ]
  }
 ],
 "metadata": {
  "kernelspec": {
   "display_name": "Python 3 (ipykernel)",
   "language": "python",
   "name": "python3"
  },
  "language_info": {
   "codemirror_mode": {
    "name": "ipython",
    "version": 3
   },
   "file_extension": ".py",
   "mimetype": "text/x-python",
   "name": "python",
   "nbconvert_exporter": "python",
   "pygments_lexer": "ipython3",
   "version": "3.9.12"
  }
 },
 "nbformat": 4,
 "nbformat_minor": 5
}
