{
 "cells": [
  {
   "cell_type": "code",
   "execution_count": null,
   "id": "eecae8b9",
   "metadata": {},
   "outputs": [],
   "source": [
    "1. Why are functions advantageous to have in your programs?\n",
    "\n",
    "Answer : If you create function , then it will help you to reduandancy of the code .\n",
    "         You can use same function at multiple places s that total length of code get reduced.\n",
    "        Code can be updated easily incase of new changes . \n",
    "    \n"
   ]
  },
  {
   "cell_type": "code",
   "execution_count": null,
   "id": "dc867d70",
   "metadata": {},
   "outputs": [],
   "source": [
    "2. When does the code in a function run: when it's specified or when it's called?\n",
    "\n",
    "Answer : When we call the function then it get executed. When we specify the function , nothing happens.\n"
   ]
  },
  {
   "cell_type": "code",
   "execution_count": null,
   "id": "6070cece",
   "metadata": {},
   "outputs": [],
   "source": [
    "3. What statement creates a function?\n",
    "\n",
    "Answer : def statement creates the function ."
   ]
  },
  {
   "cell_type": "code",
   "execution_count": null,
   "id": "9bb8f72a",
   "metadata": {},
   "outputs": [],
   "source": [
    "4. What is the difference between a function and a function call?\n",
    "\n",
    "Answer : when we define the function then it only gets created . To execute the function , we need to call the function ."
   ]
  },
  {
   "cell_type": "code",
   "execution_count": null,
   "id": "08886b8b",
   "metadata": {},
   "outputs": [],
   "source": [
    "5. How many global scopes are there in a Python program? How many local scopes?\n",
    "\n",
    "Answer : There is only one Global scope in python program . Local scopes created when we call the function . "
   ]
  },
  {
   "cell_type": "code",
   "execution_count": null,
   "id": "0c8206af",
   "metadata": {},
   "outputs": [],
   "source": [
    "6. What happens to variables in a local scope when the function call returns?\n",
    "\n",
    "Answer :When the function call returns , local variables get reseted or vanished ."
   ]
  },
  {
   "cell_type": "code",
   "execution_count": null,
   "id": "051f7266",
   "metadata": {},
   "outputs": [],
   "source": [
    "7. What is the concept of a return value? Is it possible to have a return value in an expression?\n",
    "\n",
    "Answer : Return value is the value that is function call evalautes and return it . Yes, we can use the return function\n",
    "         in an expression . "
   ]
  },
  {
   "cell_type": "code",
   "execution_count": null,
   "id": "f7e3bbe8",
   "metadata": {},
   "outputs": [],
   "source": [
    "8. If a function does not have a return statement, what is the return value of a call to that function?\n",
    "\n",
    "Answer : If the function does not have return statement, then its return value is None."
   ]
  },
  {
   "cell_type": "code",
   "execution_count": null,
   "id": "1282a23d",
   "metadata": {},
   "outputs": [],
   "source": [
    "9. How do you make a function variable refer to the global variable?\n",
    "\n",
    "Answer : By using global statement,you make a function variable refer to the global variable"
   ]
  },
  {
   "cell_type": "code",
   "execution_count": null,
   "id": "b5285895",
   "metadata": {},
   "outputs": [],
   "source": [
    "10. What is the data type of None?\n",
    "\n",
    "Answer : NoneType"
   ]
  },
  {
   "cell_type": "code",
   "execution_count": null,
   "id": "96eb28b1",
   "metadata": {},
   "outputs": [],
   "source": [
    "11. What does the sentence import areallyourpetsnamederic do?\n",
    "\n",
    "Answer : Given import statement will import a module named areallyourpetsnamederic.\n"
   ]
  },
  {
   "cell_type": "code",
   "execution_count": null,
   "id": "0e9ba571",
   "metadata": {},
   "outputs": [],
   "source": [
    "12. If you had a bacon() feature in a spam module, what would you call it after importing spam?\n",
    "\n",
    "Answer :i will call spam.bacon()."
   ]
  },
  {
   "cell_type": "code",
   "execution_count": null,
   "id": "4f0b0d57",
   "metadata": {},
   "outputs": [],
   "source": [
    "13. What can you do to save a programme from crashing if it encounters an error?\n",
    "\n",
    "Answer : I will write risky code in try except block to catch the exception and run normally after error from next step."
   ]
  },
  {
   "cell_type": "code",
   "execution_count": null,
   "id": "edeb2fe3",
   "metadata": {},
   "outputs": [],
   "source": [
    "14. What is the purpose of the try clause? What is the purpose of the except clause?\n",
    "\n",
    "Answer : The code that could be risky and can cause an error will be there in the try clause. \n",
    "         To handle the error in try  block Except block will be used ."
   ]
  },
  {
   "cell_type": "code",
   "execution_count": null,
   "id": "bb4adbc1",
   "metadata": {},
   "outputs": [],
   "source": []
  }
 ],
 "metadata": {
  "kernelspec": {
   "display_name": "Python 3",
   "language": "python",
   "name": "python3"
  },
  "language_info": {
   "codemirror_mode": {
    "name": "ipython",
    "version": 3
   },
   "file_extension": ".py",
   "mimetype": "text/x-python",
   "name": "python",
   "nbconvert_exporter": "python",
   "pygments_lexer": "ipython3",
   "version": "3.8.8"
  }
 },
 "nbformat": 4,
 "nbformat_minor": 5
}
