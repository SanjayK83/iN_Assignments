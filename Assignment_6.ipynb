{
 "cells": [
  {
   "cell_type": "code",
   "execution_count": null,
   "id": "85e9fa57",
   "metadata": {},
   "outputs": [],
   "source": [
    "1. What are escape characters, and how do you use them?\n",
    "\n",
    "Answer : Escape characters are the special characters in string values that would otherwise be difficult to type into code.\n"
   ]
  },
  {
   "cell_type": "code",
   "execution_count": null,
   "id": "fb7837cc",
   "metadata": {},
   "outputs": [],
   "source": [
    "2. What do the escape characters n and t stand for?\n",
    "\n",
    "Answer : \\n - New Line\n",
    "         \\t - tab\n"
   ]
  },
  {
   "cell_type": "code",
   "execution_count": null,
   "id": "9ed18a95",
   "metadata": {},
   "outputs": [],
   "source": [
    "3. What is the way to include backslash characters in a string?\n",
    "\n",
    "Answer : \\\\ escape character will be used t incldue the backlash characters in string."
   ]
  },
  {
   "cell_type": "code",
   "execution_count": null,
   "id": "2b2e5578",
   "metadata": {},
   "outputs": [],
   "source": [
    "4. The string \"Howl's Moving Castle\" is a correct value. Why isn't the single quote character in the word Howl's\n",
    "not escaped a problem?\n",
    "\n",
    "Answer : We have used the double quotes here hence single quote character is not an issue here .  "
   ]
  },
  {
   "cell_type": "code",
   "execution_count": null,
   "id": "562f5904",
   "metadata": {},
   "outputs": [],
   "source": [
    "5. How do you write a string of newlines if you don't want to use the n character?\n",
    "\n",
    "Answer : Multiline strings will help you to use newlines in strings"
   ]
  },
  {
   "cell_type": "code",
   "execution_count": null,
   "id": "bd23d04a",
   "metadata": {},
   "outputs": [],
   "source": [
    "6. What are the values of the given expressions?\n",
    "'Hello, world!'[1]\n",
    "'Hello, world!'[0:5]\n",
    "'Hello, world!'[:5]\n",
    "'Hello, world!'[3:]\n",
    "\n",
    "Answer : \n",
    " 'Hello, world!'[1] => 'e'\n",
    " 'Hello, world!'[0:5] =>'Hello'\n",
    " 'Hello, world!'[:5] => 'Hello'\n",
    "'Hello, world!'[3:] => 'lo, world!'\n",
    "\n"
   ]
  },
  {
   "cell_type": "code",
   "execution_count": null,
   "id": "666dd7ff",
   "metadata": {},
   "outputs": [],
   "source": [
    "7. What are the values of the following expressions?\n",
    "\n",
    "Answer : \n",
    "'Hello'.upper() => 'HELLO'\n",
    "'Hello'.upper().isupper() => True\n",
    "'Hello'.upper().lower() => 'hello'\n"
   ]
  },
  {
   "cell_type": "code",
   "execution_count": null,
   "id": "0a3e1b8c",
   "metadata": {},
   "outputs": [],
   "source": [
    "8. What are the values of the following expressions?\n",
    "\n",
    "Answer : \n",
    "'Remember, remember, the fifth of July.'.split() =>  ['Remember,', 'remember,', 'the', 'fifth', 'of', 'November.']\n",
    "\n",
    "'-'.join('There can only one.'.split()) =>       'There-can-be-only-one.'\n"
   ]
  },
  {
   "cell_type": "code",
   "execution_count": null,
   "id": "84f74c97",
   "metadata": {},
   "outputs": [],
   "source": [
    "9. What are the methods for right-justifying, left-justifying, and centering a string?\n",
    "\n",
    "Answer : \n",
    "    right-justifying =>  rjust()\n",
    "    left-justifying => ljust()\n",
    "    centering => center()\n"
   ]
  },
  {
   "cell_type": "code",
   "execution_count": null,
   "id": "c4eee847",
   "metadata": {},
   "outputs": [],
   "source": [
    "10. What is the best way to remove whitespace characters from the start or end?\n",
    "\n",
    "Answer : The lstrip() and rstrip() methods\n",
    "    "
   ]
  }
 ],
 "metadata": {
  "kernelspec": {
   "display_name": "Python 3 (ipykernel)",
   "language": "python",
   "name": "python3"
  },
  "language_info": {
   "codemirror_mode": {
    "name": "ipython",
    "version": 3
   },
   "file_extension": ".py",
   "mimetype": "text/x-python",
   "name": "python",
   "nbconvert_exporter": "python",
   "pygments_lexer": "ipython3",
   "version": "3.9.12"
  }
 },
 "nbformat": 4,
 "nbformat_minor": 5
}
