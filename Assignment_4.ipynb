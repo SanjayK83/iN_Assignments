{
 "cells": [
  {
   "cell_type": "code",
   "execution_count": null,
   "id": "5779754a",
   "metadata": {},
   "outputs": [],
   "source": [
    "1. What exactly is []?\n",
    "Ans : The symbol [] is called as empty list value, This is list value which contains no items. \n",
    "\n",
    "2. In a list of values stored in a variable called spam, how would you assign the value 'hello' as the third value? (Assume [2, 4, 6, 8, 10] are in spam.)\n",
    "Ans : spam[2] = 'hello'\n",
    "Let's pretend the spam includes the list ['a', 'b', 'c', 'd'] for the next three queries.\n",
    "3. What is the value of spam[int(int('3' * 2) / 11)]?\n",
    "Ans : ‘d’\n",
    "4. What is the value of spam[-1]?\n",
    "Ans : ‘d’ \n",
    "5. What is the value of spam[:2]?\n",
    "Ans : [‘a’, ’b’]\n",
    "Let's pretend bacon has the list [3.14, 'cat,' 11, 'cat,' True] for the next three questions.\n",
    "6. What is the value of bacon.index('cat')?\n",
    "Ans : 1\n",
    "7. How does bacon.append(99) change the look of the list value in bacon?\n",
    "Ans : [3.14, 'cat', 11, 'cat', True, 99]\n",
    "8. How does bacon.remove('cat') change the look of the list in bacon?\n",
    "Ans : [3.14, 11, 'cat', True]\n",
    "9. What are the list concatenation and list replication operators?\n",
    "Ans: The list concatenation is +, while the operator for replication is *\n",
    "10. What is difference between the list methods append () and insert()?\n",
    "Ans: append() adds values only to the end of a list, while insert() add them anywhere in the list.\n",
    "11. What are the two methods for removing items from a list?\n",
    "Ans: The Pop() and the remove() list method\n",
    "12. Describe how list values and string values are identical.\n",
    "Ans: Both lists and strings have indexes and slices. They can  be used in for loops, be concatenated\n",
    "or replicated.\n",
    "13. What's the difference between tuples and lists?\n",
    "Ans: Tuple is immutable while list is mutable. List is added in [] whereas tuple get added using ().\n",
    "14. How do you type a tuple value that only contains the integer 42?\n",
    "Ans: (42,)\n",
    "15. How do you get a list value's tuple form? How do you get a tuple value's list form?\n",
    "Ans: Use The tuple() to get list value’s tuple form  and list() functions for tuple values list form.\n",
    "16. Variables that \"contain\" list values are not necessarily lists themselves. Instead, what do they contain?\n",
    "Ans: They contain references to list values.\n",
    "17. How do you distinguish between copy.copy() and copy.deepcopy()?\n",
    "Ans: The copy.copy() function will do a shallow copy of a list, while the copy.deepcopy() function will do a deep copy of a list.\n"
   ]
  }
 ],
 "metadata": {
  "kernelspec": {
   "display_name": "Python 3 (ipykernel)",
   "language": "python",
   "name": "python3"
  },
  "language_info": {
   "codemirror_mode": {
    "name": "ipython",
    "version": 3
   },
   "file_extension": ".py",
   "mimetype": "text/x-python",
   "name": "python",
   "nbconvert_exporter": "python",
   "pygments_lexer": "ipython3",
   "version": "3.9.12"
  }
 },
 "nbformat": 4,
 "nbformat_minor": 5
}
